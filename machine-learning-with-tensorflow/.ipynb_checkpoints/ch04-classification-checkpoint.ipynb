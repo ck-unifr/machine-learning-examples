{
 "cells": [
  {
   "cell_type": "code",
   "execution_count": 6,
   "metadata": {},
   "outputs": [
    {
     "name": "stdout",
     "output_type": "stream",
     "text": [
      "0 8.6576395\n",
      "100 3.0904603\n",
      "200 2.1509433\n",
      "300 1.9859585\n",
      "400 1.9569864\n",
      "500 1.9518989\n",
      "600 1.9510055\n",
      "700 1.9508485\n",
      "800 1.9508209\n",
      "900 1.9508162\n",
      "learned parameters [ 1.2179362  -0.21439895]\n"
     ]
    },
    {
     "data": {
      "image/png": "[encoded data removed]",
      "text/plain": [
       "<matplotlib.figure.Figure at 0x7f990c28e7f0>"
      ]
     },
     "metadata": {},
     "output_type": "display_data"
    }
   ],
   "source": [
    "import tensorflow as tf\n",
    "import numpy as np\n",
    "import matplotlib.pyplot as plt\n",
    "\n",
    "x_label0 = np.random.normal(5, 1, 10)\n",
    "x_label1 = np.random.normal(2, 1, 10)\n",
    "xs = np.append(x_label0, x_label1)\n",
    "labels = [0.] * len(x_label0) + [1.] * len(x_label1)\n",
    "\n",
    "plt.scatter(xs, labels)\n",
    "\n",
    "learning_rate = 0.001\n",
    "epochs = 1000\n",
    "\n",
    "X = tf.placeholder('float')\n",
    "Y = tf.placeholder('float')\n",
    "\n",
    "def model(X, w):\n",
    "    return tf.add(tf.multiply(w[1], tf.pow(X, 1)), tf.multiply(w[0], tf.pow(X, 0)))\n",
    "\n",
    "w = tf.Variable([0., 0.], name='parameters')\n",
    "y_model = model(X, w)\n",
    "cost = tf.reduce_sum(tf.square(Y-y_model))\n",
    "\n",
    "train_op = tf.train.GradientDescentOptimizer(learning_rate).minimize(cost)\n",
    "\n",
    "sess = tf.Session()\n",
    "init = tf.global_variables_initializer()\n",
    "sess.run(init)\n",
    "\n",
    "for epoch in range(epochs):\n",
    "    sess.run(train_op, feed_dict= {X: xs, Y: labels}) \n",
    "    current_cost = sess.run(cost, feed_dict= {X: xs, Y: labels})\n",
    "    if epoch % 100 == 0 :\n",
    "        print(epoch, current_cost)\n",
    "\n",
    "w_val = sess.run(w) \n",
    "print( 'learned parameters' , w_val)\n",
    "sess.close()\n",
    "\n",
    "all_xs = np.linspace( 0 , 10 , 100 ) \n",
    "plt.plot(all_xs, all_xs * w_val[ 1 ] + w_val[ 0 ])\n",
    "plt.show() "
   ]
  },
  {
   "cell_type": "code",
   "execution_count": null,
   "metadata": {},
   "outputs": [],
   "source": []
  }
 ],
 "metadata": {
  "kernelspec": {
   "display_name": "Python 3",
   "language": "python",
   "name": "python3"
  },
  "language_info": {
   "codemirror_mode": {
    "name": "ipython",
    "version": 3
   },
   "file_extension": ".py",
   "mimetype": "text/x-python",
   "name": "python",
   "nbconvert_exporter": "python",
   "pygments_lexer": "ipython3",
   "version": "3.6.4"
  }
 },
 "nbformat": 4,
 "nbformat_minor": 2
}
